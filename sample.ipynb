{
 "cells": [
  {
   "cell_type": "markdown",
   "metadata": {},
   "source": [
    "python version = 3.7"
   ]
  },
  {
   "cell_type": "code",
   "execution_count": 15,
   "metadata": {},
   "outputs": [],
   "source": [
    "import numpy as np\n",
    "from qiskit import Aer, execute\n",
    "from qiskit.circuit import QuantumCircuit, Parameter\n",
    "from qiskit.circuit.library import TwoLocal\n",
    "from qiskit_machine_learning.algorithms import VQC\n",
    "from qiskit_machine_learning.datasets import ad_hoc_data\n"
   ]
  },
  {
   "cell_type": "code",
   "execution_count": 16,
   "metadata": {},
   "outputs": [],
   "source": [
    "# Load dataset\n",
    "feature_dim = 2\n",
    "train_features, train_labels, test_features, test_labels = ad_hoc_data(\n",
    "    training_size=20, test_size=10, n=feature_dim, gap=0.3\n",
    ")\n"
   ]
  },
  {
   "cell_type": "code",
   "execution_count": 17,
   "metadata": {},
   "outputs": [
    {
     "data": {
      "text/plain": [
       "<qiskit.circuit.instructionset.InstructionSet at 0x27a608ff7c8>"
      ]
     },
     "execution_count": 17,
     "metadata": {},
     "output_type": "execute_result"
    }
   ],
   "source": [
    "# Define quantum circuit\n",
    "num_qubits = feature_dim\n",
    "qc = QuantumCircuit(num_qubits)\n",
    "params = [Parameter(f'θ{i}') for i in range(num_qubits)]\n",
    "qc.ry(params[0], 0)\n",
    "qc.ry(params[1], 1)\n",
    "qc.cx(0, 1)\n"
   ]
  },
  {
   "cell_type": "code",
   "execution_count": 18,
   "metadata": {},
   "outputs": [
    {
     "data": {
      "text/plain": [
       "<qiskit_machine_learning.algorithms.classifiers.vqc.VQC at 0x27a608ff308>"
      ]
     },
     "execution_count": 18,
     "metadata": {},
     "output_type": "execute_result"
    }
   ],
   "source": [
    "from qiskit.algorithms.optimizers import SPSA\n",
    "\n",
    "\n",
    "# Define a variational circuit with the same number of qubits as the feature map\n",
    "var_circuit = TwoLocal(num_qubits, ['ry', 'rz'], 'cz', reps=3)\n",
    "\n",
    "# Initialize optimizer\n",
    "optimizer = SPSA(maxiter=100)\n",
    "\n",
    "# Create the VQC object\n",
    "vqc = VQC(feature_map=qc, ansatz=var_circuit, optimizer=optimizer)\n",
    "\n",
    "# Fit the model\n",
    "vqc.fit(train_features, train_labels)"
   ]
  },
  {
   "cell_type": "code",
   "execution_count": 19,
   "metadata": {},
   "outputs": [
    {
     "name": "stdout",
     "output_type": "stream",
     "text": [
      "Test set accuracy: 0.75\n"
     ]
    }
   ],
   "source": [
    "score = vqc.score(test_features, test_labels)\n",
    "print(f'Test set accuracy: {score}')\n"
   ]
  }
 ],
 "metadata": {
  "kernelspec": {
   "display_name": "venv3.8",
   "language": "python",
   "name": "python3"
  },
  "language_info": {
   "codemirror_mode": {
    "name": "ipython",
    "version": 3
   },
   "file_extension": ".py",
   "mimetype": "text/x-python",
   "name": "python",
   "nbconvert_exporter": "python",
   "pygments_lexer": "ipython3",
   "version": "3.7.16"
  }
 },
 "nbformat": 4,
 "nbformat_minor": 2
}
